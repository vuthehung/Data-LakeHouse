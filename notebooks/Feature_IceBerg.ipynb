{
 "cells": [
  {
   "cell_type": "code",
   "execution_count": 6,
   "id": "62ae4606-3c83-45f6-9ec5-c02e42ce77c7",
   "metadata": {},
   "outputs": [
    {
     "data": {
      "text/html": [
       "<table>\n",
       "    <thead>\n",
       "        <tr>\n",
       "        </tr>\n",
       "    </thead>\n",
       "    <tbody>\n",
       "    </tbody>\n",
       "</table>"
      ],
      "text/plain": [
       "++\n",
       "||\n",
       "++\n",
       "++"
      ]
     },
     "execution_count": 6,
     "metadata": {},
     "output_type": "execute_result"
    }
   ],
   "source": [
    "%%sql\n",
    "CREATE DATABASE data_db LOCATION 's3a://lakehouse/warehouse/data_db';"
   ]
  },
  {
   "cell_type": "code",
   "execution_count": 8,
   "id": "3dbf2736-9e76-418b-a22f-fded86beee63",
   "metadata": {},
   "outputs": [
    {
     "data": {
      "text/html": [
       "<table>\n",
       "    <thead>\n",
       "        <tr>\n",
       "            <th>namespace</th>\n",
       "        </tr>\n",
       "    </thead>\n",
       "    <tbody>\n",
       "        <tr>\n",
       "            <td>data_db</td>\n",
       "        </tr>\n",
       "        <tr>\n",
       "            <td>default</td>\n",
       "        </tr>\n",
       "    </tbody>\n",
       "</table>"
      ],
      "text/plain": [
       "+-----------+\n",
       "| namespace |\n",
       "+-----------+\n",
       "|   data_db |\n",
       "|   default |\n",
       "+-----------+"
      ]
     },
     "execution_count": 8,
     "metadata": {},
     "output_type": "execute_result"
    }
   ],
   "source": [
    "%%sql \n",
    "show schemas from hms;"
   ]
  },
  {
   "cell_type": "code",
   "execution_count": 10,
   "id": "51b5b076-54ca-45c7-a0a3-0072f98809fa",
   "metadata": {},
   "outputs": [],
   "source": [
    "TAXIS_TABLE=\"hms.data_db.trips\""
   ]
  },
  {
   "cell_type": "code",
   "execution_count": 11,
   "id": "0e3b9a50-6506-417f-a1c8-26023b5958aa",
   "metadata": {},
   "outputs": [
    {
     "data": {
      "text/html": [
       "<table>\n",
       "    <thead>\n",
       "        <tr>\n",
       "        </tr>\n",
       "    </thead>\n",
       "    <tbody>\n",
       "    </tbody>\n",
       "</table>"
      ],
      "text/plain": [
       "++\n",
       "||\n",
       "++\n",
       "++"
      ]
     },
     "execution_count": 11,
     "metadata": {},
     "output_type": "execute_result"
    }
   ],
   "source": [
    "%%sql\n",
    "CREATE TABLE hms.data_db.trips\n",
    "(\n",
    "  vendor_id bigint,\n",
    "  trip_id bigint,\n",
    "  trip_distance float,\n",
    "  fare_amount double,\n",
    "  store_and_fwd_flag string\n",
    ")\n",
    "PARTITIONED BY (vendor_id);"
   ]
  },
  {
   "cell_type": "code",
   "execution_count": 12,
   "id": "bbb940af-75ea-4b51-9af7-b8add0d8d6e0",
   "metadata": {},
   "outputs": [
    {
     "name": "stderr",
     "output_type": "stream",
     "text": [
      "                                                                                \r"
     ]
    },
    {
     "data": {
      "text/html": [
       "<table>\n",
       "    <thead>\n",
       "        <tr>\n",
       "        </tr>\n",
       "    </thead>\n",
       "    <tbody>\n",
       "    </tbody>\n",
       "</table>"
      ],
      "text/plain": [
       "++\n",
       "||\n",
       "++\n",
       "++"
      ]
     },
     "execution_count": 12,
     "metadata": {},
     "output_type": "execute_result"
    }
   ],
   "source": [
    "%%sql\n",
    "INSERT INTO hms.data_db.trips\n",
    "VALUES (1, 1000371, 1.8, 15.32, 'N'), (2, 1000372, 2.5, 22.15, 'N'), (2, 1000373, 0.9, 9.01, 'N'), (1, 1000374, 8.4, 42.13, 'Y');"
   ]
  },
  {
   "cell_type": "code",
   "execution_count": 13,
   "id": "f32f0505-922f-466e-b08f-f6265ed658a3",
   "metadata": {},
   "outputs": [
    {
     "name": "stderr",
     "output_type": "stream",
     "text": [
      "                                                                                \r"
     ]
    },
    {
     "data": {
      "text/html": [
       "<table>\n",
       "    <thead>\n",
       "        <tr>\n",
       "            <th>vendor_id</th>\n",
       "            <th>trip_id</th>\n",
       "            <th>trip_distance</th>\n",
       "            <th>fare_amount</th>\n",
       "            <th>store_and_fwd_flag</th>\n",
       "        </tr>\n",
       "    </thead>\n",
       "    <tbody>\n",
       "        <tr>\n",
       "            <td>1</td>\n",
       "            <td>1000371</td>\n",
       "            <td>1.7999999523162842</td>\n",
       "            <td>15.32</td>\n",
       "            <td>N</td>\n",
       "        </tr>\n",
       "        <tr>\n",
       "            <td>1</td>\n",
       "            <td>1000374</td>\n",
       "            <td>8.399999618530273</td>\n",
       "            <td>42.13</td>\n",
       "            <td>Y</td>\n",
       "        </tr>\n",
       "        <tr>\n",
       "            <td>2</td>\n",
       "            <td>1000372</td>\n",
       "            <td>2.5</td>\n",
       "            <td>22.15</td>\n",
       "            <td>N</td>\n",
       "        </tr>\n",
       "        <tr>\n",
       "            <td>2</td>\n",
       "            <td>1000373</td>\n",
       "            <td>0.8999999761581421</td>\n",
       "            <td>9.01</td>\n",
       "            <td>N</td>\n",
       "        </tr>\n",
       "    </tbody>\n",
       "</table>"
      ],
      "text/plain": [
       "+-----------+---------+--------------------+-------------+--------------------+\n",
       "| vendor_id | trip_id |      trip_distance | fare_amount | store_and_fwd_flag |\n",
       "+-----------+---------+--------------------+-------------+--------------------+\n",
       "|         1 | 1000371 | 1.7999999523162842 |       15.32 |                  N |\n",
       "|         1 | 1000374 |  8.399999618530273 |       42.13 |                  Y |\n",
       "|         2 | 1000372 |                2.5 |       22.15 |                  N |\n",
       "|         2 | 1000373 | 0.8999999761581421 |        9.01 |                  N |\n",
       "+-----------+---------+--------------------+-------------+--------------------+"
      ]
     },
     "execution_count": 13,
     "metadata": {},
     "output_type": "execute_result"
    }
   ],
   "source": [
    "%%sql\n",
    "SELECT * FROM  hms.data_db.trips;"
   ]
  },
  {
   "cell_type": "code",
   "execution_count": 17,
   "id": "c5bd4ab6-dd86-44c4-98a5-1d88dcffe217",
   "metadata": {},
   "outputs": [
    {
     "data": {
      "text/html": [
       "<table>\n",
       "    <thead>\n",
       "        <tr>\n",
       "        </tr>\n",
       "    </thead>\n",
       "    <tbody>\n",
       "    </tbody>\n",
       "</table>"
      ],
      "text/plain": [
       "++\n",
       "||\n",
       "++\n",
       "++"
      ]
     },
     "execution_count": 17,
     "metadata": {},
     "output_type": "execute_result"
    }
   ],
   "source": [
    "%%sql\n",
    "Alter table hms.data_db.trips Add column pickupdatetime TIMESTAMP"
   ]
  },
  {
   "cell_type": "code",
   "execution_count": 30,
   "id": "aa52457e-1dcd-4a5d-b20e-c36a72590134",
   "metadata": {},
   "outputs": [
    {
     "data": {
      "text/html": [
       "<table>\n",
       "    <thead>\n",
       "        <tr>\n",
       "            <th>vendor_id</th>\n",
       "            <th>trip_id</th>\n",
       "            <th>trip_distance</th>\n",
       "            <th>fare_amount</th>\n",
       "            <th>store_and_fwd_flag</th>\n",
       "            <th>pickupdatetime</th>\n",
       "        </tr>\n",
       "    </thead>\n",
       "    <tbody>\n",
       "        <tr>\n",
       "            <td>1</td>\n",
       "            <td>1000375</td>\n",
       "            <td>1.7999999523162842</td>\n",
       "            <td>15.32</td>\n",
       "            <td>N</td>\n",
       "            <td>None</td>\n",
       "        </tr>\n",
       "        <tr>\n",
       "            <td>1</td>\n",
       "            <td>1000371</td>\n",
       "            <td>1.7999999523162842</td>\n",
       "            <td>15.32</td>\n",
       "            <td>N</td>\n",
       "            <td>None</td>\n",
       "        </tr>\n",
       "        <tr>\n",
       "            <td>1</td>\n",
       "            <td>1000374</td>\n",
       "            <td>8.399999618530273</td>\n",
       "            <td>42.13</td>\n",
       "            <td>Y</td>\n",
       "            <td>None</td>\n",
       "        </tr>\n",
       "        <tr>\n",
       "            <td>2</td>\n",
       "            <td>1000372</td>\n",
       "            <td>2.5</td>\n",
       "            <td>22.15</td>\n",
       "            <td>N</td>\n",
       "            <td>None</td>\n",
       "        </tr>\n",
       "        <tr>\n",
       "            <td>2</td>\n",
       "            <td>1000373</td>\n",
       "            <td>0.8999999761581421</td>\n",
       "            <td>9.01</td>\n",
       "            <td>N</td>\n",
       "            <td>None</td>\n",
       "        </tr>\n",
       "    </tbody>\n",
       "</table>"
      ],
      "text/plain": [
       "+-----------+---------+--------------------+-------------+--------------------+----------------+\n",
       "| vendor_id | trip_id |      trip_distance | fare_amount | store_and_fwd_flag | pickupdatetime |\n",
       "+-----------+---------+--------------------+-------------+--------------------+----------------+\n",
       "|         1 | 1000375 | 1.7999999523162842 |       15.32 |                  N |           None |\n",
       "|         1 | 1000371 | 1.7999999523162842 |       15.32 |                  N |           None |\n",
       "|         1 | 1000374 |  8.399999618530273 |       42.13 |                  Y |           None |\n",
       "|         2 | 1000372 |                2.5 |       22.15 |                  N |           None |\n",
       "|         2 | 1000373 | 0.8999999761581421 |        9.01 |                  N |           None |\n",
       "+-----------+---------+--------------------+-------------+--------------------+----------------+"
      ]
     },
     "execution_count": 30,
     "metadata": {},
     "output_type": "execute_result"
    }
   ],
   "source": [
    "%%sql\n",
    "SELECT * FROM hms.data_db.trips;"
   ]
  },
  {
   "cell_type": "code",
   "execution_count": 29,
   "id": "13393190-b3b3-4123-8d84-078857e9a169",
   "metadata": {},
   "outputs": [
    {
     "name": "stderr",
     "output_type": "stream",
     "text": [
      "                                                                                \r"
     ]
    },
    {
     "data": {
      "text/html": [
       "<table>\n",
       "    <thead>\n",
       "        <tr>\n",
       "        </tr>\n",
       "    </thead>\n",
       "    <tbody>\n",
       "    </tbody>\n",
       "</table>"
      ],
      "text/plain": [
       "++\n",
       "||\n",
       "++\n",
       "++"
      ]
     },
     "execution_count": 29,
     "metadata": {},
     "output_type": "execute_result"
    }
   ],
   "source": [
    "%%sql\n",
    "INSERT INTO hms.data_db.trips\n",
    "VALUES (1, 1000375, 1.8, 15.32, 'N', null)"
   ]
  },
  {
   "cell_type": "code",
   "execution_count": 31,
   "id": "fa1a7eb8-ee9e-4ba1-8d4c-d1828a0721be",
   "metadata": {},
   "outputs": [
    {
     "data": {
      "text/html": [
       "<table>\n",
       "    <thead>\n",
       "        <tr>\n",
       "            <th>vendor_id</th>\n",
       "            <th>trip_id</th>\n",
       "            <th>trip_distance</th>\n",
       "            <th>fare_amount</th>\n",
       "            <th>store_and_fwd_flag</th>\n",
       "            <th>pickupdatetime</th>\n",
       "        </tr>\n",
       "    </thead>\n",
       "    <tbody>\n",
       "        <tr>\n",
       "            <td>1</td>\n",
       "            <td>1000375</td>\n",
       "            <td>1.7999999523162842</td>\n",
       "            <td>15.32</td>\n",
       "            <td>N</td>\n",
       "            <td>None</td>\n",
       "        </tr>\n",
       "        <tr>\n",
       "            <td>1</td>\n",
       "            <td>1000371</td>\n",
       "            <td>1.7999999523162842</td>\n",
       "            <td>15.32</td>\n",
       "            <td>N</td>\n",
       "            <td>None</td>\n",
       "        </tr>\n",
       "        <tr>\n",
       "            <td>1</td>\n",
       "            <td>1000374</td>\n",
       "            <td>8.399999618530273</td>\n",
       "            <td>42.13</td>\n",
       "            <td>Y</td>\n",
       "            <td>None</td>\n",
       "        </tr>\n",
       "        <tr>\n",
       "            <td>2</td>\n",
       "            <td>1000372</td>\n",
       "            <td>2.5</td>\n",
       "            <td>22.15</td>\n",
       "            <td>N</td>\n",
       "            <td>None</td>\n",
       "        </tr>\n",
       "        <tr>\n",
       "            <td>2</td>\n",
       "            <td>1000373</td>\n",
       "            <td>0.8999999761581421</td>\n",
       "            <td>9.01</td>\n",
       "            <td>N</td>\n",
       "            <td>None</td>\n",
       "        </tr>\n",
       "    </tbody>\n",
       "</table>"
      ],
      "text/plain": [
       "+-----------+---------+--------------------+-------------+--------------------+----------------+\n",
       "| vendor_id | trip_id |      trip_distance | fare_amount | store_and_fwd_flag | pickupdatetime |\n",
       "+-----------+---------+--------------------+-------------+--------------------+----------------+\n",
       "|         1 | 1000375 | 1.7999999523162842 |       15.32 |                  N |           None |\n",
       "|         1 | 1000371 | 1.7999999523162842 |       15.32 |                  N |           None |\n",
       "|         1 | 1000374 |  8.399999618530273 |       42.13 |                  Y |           None |\n",
       "|         2 | 1000372 |                2.5 |       22.15 |                  N |           None |\n",
       "|         2 | 1000373 | 0.8999999761581421 |        9.01 |                  N |           None |\n",
       "+-----------+---------+--------------------+-------------+--------------------+----------------+"
      ]
     },
     "execution_count": 31,
     "metadata": {},
     "output_type": "execute_result"
    }
   ],
   "source": [
    "%%sql\n",
    "SELECT * FROM hms.data_db.trips;"
   ]
  },
  {
   "cell_type": "code",
   "execution_count": 32,
   "id": "7f0ce101-fe75-4d4c-ab6c-d72372435156",
   "metadata": {},
   "outputs": [
    {
     "data": {
      "text/html": [
       "<table>\n",
       "    <thead>\n",
       "        <tr>\n",
       "        </tr>\n",
       "    </thead>\n",
       "    <tbody>\n",
       "    </tbody>\n",
       "</table>"
      ],
      "text/plain": [
       "++\n",
       "||\n",
       "++\n",
       "++"
      ]
     },
     "execution_count": 32,
     "metadata": {},
     "output_type": "execute_result"
    }
   ],
   "source": [
    "%%sql\n",
    "ALTER TABLE hms.data_db.trips SET TBLPROPERTIES ('write.merge.mode'='merge-on-read')"
   ]
  },
  {
   "cell_type": "code",
   "execution_count": 33,
   "id": "04a4c1bc-b633-4705-a21d-d77910af72e5",
   "metadata": {},
   "outputs": [
    {
     "data": {
      "text/html": [
       "<table>\n",
       "    <thead>\n",
       "        <tr>\n",
       "        </tr>\n",
       "    </thead>\n",
       "    <tbody>\n",
       "    </tbody>\n",
       "</table>"
      ],
      "text/plain": [
       "++\n",
       "||\n",
       "++\n",
       "++"
      ]
     },
     "execution_count": 33,
     "metadata": {},
     "output_type": "execute_result"
    }
   ],
   "source": [
    "%%sql\n",
    "INSERT INTO hms.data_db.trips\n",
    "VALUES (1, 1000376, 1.8, 15.32, 'Y', null)"
   ]
  },
  {
   "cell_type": "code",
   "execution_count": 44,
   "id": "fcb4c855-b409-4643-9767-8329f902a9b8",
   "metadata": {},
   "outputs": [
    {
     "data": {
      "text/html": [
       "<table>\n",
       "    <thead>\n",
       "        <tr>\n",
       "            <th>vendor_id</th>\n",
       "            <th>trip_id</th>\n",
       "            <th>trip_distance</th>\n",
       "            <th>fare_amount</th>\n",
       "            <th>store_and_fwd_flag</th>\n",
       "            <th>pickupdatetime</th>\n",
       "        </tr>\n",
       "    </thead>\n",
       "    <tbody>\n",
       "        <tr>\n",
       "            <td>1</td>\n",
       "            <td>1000371</td>\n",
       "            <td>1.7999999523162842</td>\n",
       "            <td>15.32</td>\n",
       "            <td>N</td>\n",
       "            <td>None</td>\n",
       "        </tr>\n",
       "        <tr>\n",
       "            <td>1</td>\n",
       "            <td>1000374</td>\n",
       "            <td>8.399999618530273</td>\n",
       "            <td>42.13</td>\n",
       "            <td>Y</td>\n",
       "            <td>None</td>\n",
       "        </tr>\n",
       "        <tr>\n",
       "            <td>2</td>\n",
       "            <td>1000372</td>\n",
       "            <td>2.5</td>\n",
       "            <td>22.15</td>\n",
       "            <td>N</td>\n",
       "            <td>None</td>\n",
       "        </tr>\n",
       "        <tr>\n",
       "            <td>1</td>\n",
       "            <td>1000376</td>\n",
       "            <td>1.7999999523162842</td>\n",
       "            <td>15.32</td>\n",
       "            <td>Y</td>\n",
       "            <td>None</td>\n",
       "        </tr>\n",
       "        <tr>\n",
       "            <td>1</td>\n",
       "            <td>1000375</td>\n",
       "            <td>1.7999999523162842</td>\n",
       "            <td>15.32</td>\n",
       "            <td>N</td>\n",
       "            <td>None</td>\n",
       "        </tr>\n",
       "    </tbody>\n",
       "</table>"
      ],
      "text/plain": [
       "+-----------+---------+--------------------+-------------+--------------------+----------------+\n",
       "| vendor_id | trip_id |      trip_distance | fare_amount | store_and_fwd_flag | pickupdatetime |\n",
       "+-----------+---------+--------------------+-------------+--------------------+----------------+\n",
       "|         1 | 1000371 | 1.7999999523162842 |       15.32 |                  N |           None |\n",
       "|         1 | 1000374 |  8.399999618530273 |       42.13 |                  Y |           None |\n",
       "|         2 | 1000372 |                2.5 |       22.15 |                  N |           None |\n",
       "|         1 | 1000376 | 1.7999999523162842 |       15.32 |                  Y |           None |\n",
       "|         1 | 1000375 | 1.7999999523162842 |       15.32 |                  N |           None |\n",
       "+-----------+---------+--------------------+-------------+--------------------+----------------+"
      ]
     },
     "execution_count": 44,
     "metadata": {},
     "output_type": "execute_result"
    }
   ],
   "source": [
    "%%sql\n",
    "SELECT * FROM hms.data_db.trips;"
   ]
  },
  {
   "cell_type": "code",
   "execution_count": 48,
   "id": "17549d69-61e1-494d-898f-a1aa8fad9bcb",
   "metadata": {},
   "outputs": [
    {
     "data": {
      "text/html": [
       "<table>\n",
       "    <thead>\n",
       "        <tr>\n",
       "            <th>committed_at</th>\n",
       "            <th>snapshot_id</th>\n",
       "            <th>parent_id</th>\n",
       "            <th>operation</th>\n",
       "            <th>manifest_list</th>\n",
       "            <th>summary</th>\n",
       "        </tr>\n",
       "    </thead>\n",
       "    <tbody>\n",
       "        <tr>\n",
       "            <td>2024-10-30 13:55:30.502000</td>\n",
       "            <td>5050848906018997966</td>\n",
       "            <td>None</td>\n",
       "            <td>append</td>\n",
       "            <td>s3a://lakehouse/warehouse/data_db/trips/metadata/snap-5050848906018997966-1-345e97c4-e957-44dd-b0e0-555123dd1e0e.avro</td>\n",
       "            <td>{&#x27;spark.app.id&#x27;: &#x27;local-1730296141089&#x27;, &#x27;changed-partition-count&#x27;: &#x27;2&#x27;, &#x27;added-data-files&#x27;: &#x27;2&#x27;, &#x27;total-equality-deletes&#x27;: &#x27;0&#x27;, &#x27;added-records&#x27;: &#x27;4&#x27;, &#x27;total-position-deletes&#x27;: &#x27;0&#x27;, &#x27;added-files-size&#x27;: &#x27;3074&#x27;, &#x27;total-delete-files&#x27;: &#x27;0&#x27;, &#x27;total-files-size&#x27;: &#x27;3074&#x27;, &#x27;total-records&#x27;: &#x27;4&#x27;, &#x27;total-data-files&#x27;: &#x27;2&#x27;}</td>\n",
       "        </tr>\n",
       "        <tr>\n",
       "            <td>2024-11-04 02:15:45.033000</td>\n",
       "            <td>3711844439636920376</td>\n",
       "            <td>5050848906018997966</td>\n",
       "            <td>append</td>\n",
       "            <td>s3a://lakehouse/warehouse/data_db/trips/metadata/snap-3711844439636920376-1-1c93c109-4d18-4e13-b4e4-a6153449b13c.avro</td>\n",
       "            <td>{&#x27;spark.app.id&#x27;: &#x27;local-1730684165476&#x27;, &#x27;changed-partition-count&#x27;: &#x27;1&#x27;, &#x27;added-data-files&#x27;: &#x27;1&#x27;, &#x27;total-equality-deletes&#x27;: &#x27;0&#x27;, &#x27;added-records&#x27;: &#x27;1&#x27;, &#x27;total-position-deletes&#x27;: &#x27;0&#x27;, &#x27;added-files-size&#x27;: &#x27;1689&#x27;, &#x27;total-delete-files&#x27;: &#x27;0&#x27;, &#x27;total-files-size&#x27;: &#x27;4763&#x27;, &#x27;total-records&#x27;: &#x27;5&#x27;, &#x27;total-data-files&#x27;: &#x27;3&#x27;}</td>\n",
       "        </tr>\n",
       "        <tr>\n",
       "            <td>2024-11-04 02:20:02.353000</td>\n",
       "            <td>8047480463877905145</td>\n",
       "            <td>3711844439636920376</td>\n",
       "            <td>append</td>\n",
       "            <td>s3a://lakehouse/warehouse/data_db/trips/metadata/snap-8047480463877905145-1-2668a93f-5a76-4456-8c9c-4592c8e0d739.avro</td>\n",
       "            <td>{&#x27;spark.app.id&#x27;: &#x27;local-1730684165476&#x27;, &#x27;changed-partition-count&#x27;: &#x27;1&#x27;, &#x27;added-data-files&#x27;: &#x27;1&#x27;, &#x27;total-equality-deletes&#x27;: &#x27;0&#x27;, &#x27;added-records&#x27;: &#x27;1&#x27;, &#x27;total-position-deletes&#x27;: &#x27;0&#x27;, &#x27;added-files-size&#x27;: &#x27;1689&#x27;, &#x27;total-delete-files&#x27;: &#x27;0&#x27;, &#x27;total-files-size&#x27;: &#x27;6452&#x27;, &#x27;total-records&#x27;: &#x27;6&#x27;, &#x27;total-data-files&#x27;: &#x27;4&#x27;}</td>\n",
       "        </tr>\n",
       "        <tr>\n",
       "            <td>2024-11-04 02:25:29.945000</td>\n",
       "            <td>277744572948458978</td>\n",
       "            <td>8047480463877905145</td>\n",
       "            <td>overwrite</td>\n",
       "            <td>s3a://lakehouse/warehouse/data_db/trips/metadata/snap-277744572948458978-1-b7e2a8a5-e049-49c6-a429-d385dcbf90ba.avro</td>\n",
       "            <td>{&#x27;added-data-files&#x27;: &#x27;1&#x27;, &#x27;total-equality-deletes&#x27;: &#x27;0&#x27;, &#x27;added-records&#x27;: &#x27;1&#x27;, &#x27;deleted-data-files&#x27;: &#x27;1&#x27;, &#x27;deleted-records&#x27;: &#x27;2&#x27;, &#x27;total-records&#x27;: &#x27;5&#x27;, &#x27;spark.app.id&#x27;: &#x27;local-1730684165476&#x27;, &#x27;removed-files-size&#x27;: &#x27;1558&#x27;, &#x27;changed-partition-count&#x27;: &#x27;1&#x27;, &#x27;total-position-deletes&#x27;: &#x27;0&#x27;, &#x27;added-files-size&#x27;: &#x27;1730&#x27;, &#x27;total-delete-files&#x27;: &#x27;0&#x27;, &#x27;total-files-size&#x27;: &#x27;6624&#x27;, &#x27;total-data-files&#x27;: &#x27;4&#x27;}</td>\n",
       "        </tr>\n",
       "        <tr>\n",
       "            <td>2024-11-04 02:42:58.071000</td>\n",
       "            <td>8891162228998381857</td>\n",
       "            <td>277744572948458978</td>\n",
       "            <td>delete</td>\n",
       "            <td>s3a://lakehouse/warehouse/data_db/trips/metadata/snap-8891162228998381857-1-789047c3-ddd6-42c7-afc4-464892a060ae.avro</td>\n",
       "            <td>{&#x27;spark.app.id&#x27;: &#x27;local-1730684165476&#x27;, &#x27;removed-files-size&#x27;: &#x27;1689&#x27;, &#x27;changed-partition-count&#x27;: &#x27;1&#x27;, &#x27;total-equality-deletes&#x27;: &#x27;0&#x27;, &#x27;deleted-data-files&#x27;: &#x27;1&#x27;, &#x27;total-position-deletes&#x27;: &#x27;0&#x27;, &#x27;total-delete-files&#x27;: &#x27;0&#x27;, &#x27;deleted-records&#x27;: &#x27;1&#x27;, &#x27;total-files-size&#x27;: &#x27;4935&#x27;, &#x27;total-records&#x27;: &#x27;4&#x27;, &#x27;total-data-files&#x27;: &#x27;3&#x27;}</td>\n",
       "        </tr>\n",
       "    </tbody>\n",
       "</table>"
      ],
      "text/plain": [
       "+----------------------------+---------------------+---------------------+-----------+-----------------------------------------------------------------------------------------------------------------------+---------------------------------------------------------------------------------------------------------------------------------------------------------------------------------------------------------------------------------------------------------------------------------------------------------------------------------------------------------------------------------------------------------+\n",
       "|               committed_at |         snapshot_id |           parent_id | operation |                                                                                                         manifest_list |                                                                                                                                                                                                                                                                                                                                                                                                 summary |\n",
       "+----------------------------+---------------------+---------------------+-----------+-----------------------------------------------------------------------------------------------------------------------+---------------------------------------------------------------------------------------------------------------------------------------------------------------------------------------------------------------------------------------------------------------------------------------------------------------------------------------------------------------------------------------------------------+\n",
       "| 2024-10-30 13:55:30.502000 | 5050848906018997966 |                None |    append | s3a://lakehouse/warehouse/data_db/trips/metadata/snap-5050848906018997966-1-345e97c4-e957-44dd-b0e0-555123dd1e0e.avro |                                                                                  {'spark.app.id': 'local-1730296141089', 'changed-partition-count': '2', 'added-data-files': '2', 'total-equality-deletes': '0', 'added-records': '4', 'total-position-deletes': '0', 'added-files-size': '3074', 'total-delete-files': '0', 'total-files-size': '3074', 'total-records': '4', 'total-data-files': '2'} |\n",
       "| 2024-11-04 02:15:45.033000 | 3711844439636920376 | 5050848906018997966 |    append | s3a://lakehouse/warehouse/data_db/trips/metadata/snap-3711844439636920376-1-1c93c109-4d18-4e13-b4e4-a6153449b13c.avro |                                                                                  {'spark.app.id': 'local-1730684165476', 'changed-partition-count': '1', 'added-data-files': '1', 'total-equality-deletes': '0', 'added-records': '1', 'total-position-deletes': '0', 'added-files-size': '1689', 'total-delete-files': '0', 'total-files-size': '4763', 'total-records': '5', 'total-data-files': '3'} |\n",
       "| 2024-11-04 02:20:02.353000 | 8047480463877905145 | 3711844439636920376 |    append | s3a://lakehouse/warehouse/data_db/trips/metadata/snap-8047480463877905145-1-2668a93f-5a76-4456-8c9c-4592c8e0d739.avro |                                                                                  {'spark.app.id': 'local-1730684165476', 'changed-partition-count': '1', 'added-data-files': '1', 'total-equality-deletes': '0', 'added-records': '1', 'total-position-deletes': '0', 'added-files-size': '1689', 'total-delete-files': '0', 'total-files-size': '6452', 'total-records': '6', 'total-data-files': '4'} |\n",
       "| 2024-11-04 02:25:29.945000 |  277744572948458978 | 8047480463877905145 | overwrite |  s3a://lakehouse/warehouse/data_db/trips/metadata/snap-277744572948458978-1-b7e2a8a5-e049-49c6-a429-d385dcbf90ba.avro | {'added-data-files': '1', 'total-equality-deletes': '0', 'added-records': '1', 'deleted-data-files': '1', 'deleted-records': '2', 'total-records': '5', 'spark.app.id': 'local-1730684165476', 'removed-files-size': '1558', 'changed-partition-count': '1', 'total-position-deletes': '0', 'added-files-size': '1730', 'total-delete-files': '0', 'total-files-size': '6624', 'total-data-files': '4'} |\n",
       "| 2024-11-04 02:42:58.071000 | 8891162228998381857 |  277744572948458978 |    delete | s3a://lakehouse/warehouse/data_db/trips/metadata/snap-8891162228998381857-1-789047c3-ddd6-42c7-afc4-464892a060ae.avro |                                                                            {'spark.app.id': 'local-1730684165476', 'removed-files-size': '1689', 'changed-partition-count': '1', 'total-equality-deletes': '0', 'deleted-data-files': '1', 'total-position-deletes': '0', 'total-delete-files': '0', 'deleted-records': '1', 'total-files-size': '4935', 'total-records': '4', 'total-data-files': '3'} |\n",
       "+----------------------------+---------------------+---------------------+-----------+-----------------------------------------------------------------------------------------------------------------------+---------------------------------------------------------------------------------------------------------------------------------------------------------------------------------------------------------------------------------------------------------------------------------------------------------------------------------------------------------------------------------------------------------+"
      ]
     },
     "execution_count": 48,
     "metadata": {},
     "output_type": "execute_result"
    }
   ],
   "source": [
    "%%sql\n",
    "select * from hms.data_db.trips.snapshots"
   ]
  },
  {
   "cell_type": "code",
   "execution_count": 41,
   "id": "1e8f451a-e12b-438e-b4e6-52c86c2a04c4",
   "metadata": {},
   "outputs": [
    {
     "data": {
      "text/html": [
       "<table>\n",
       "    <thead>\n",
       "        <tr>\n",
       "        </tr>\n",
       "    </thead>\n",
       "    <tbody>\n",
       "    </tbody>\n",
       "</table>"
      ],
      "text/plain": [
       "++\n",
       "||\n",
       "++\n",
       "++"
      ]
     },
     "execution_count": 41,
     "metadata": {},
     "output_type": "execute_result"
    }
   ],
   "source": [
    "%%sql\n",
    "ALTER TABLE hms.data_db.trips SET TBLPROPERTIES ('write.delete.mode'='merge-on-read')"
   ]
  },
  {
   "cell_type": "code",
   "execution_count": 46,
   "id": "18cf72eb-ff40-4ee9-b600-daf2159ea596",
   "metadata": {},
   "outputs": [
    {
     "data": {
      "text/html": [
       "<table>\n",
       "    <thead>\n",
       "        <tr>\n",
       "        </tr>\n",
       "    </thead>\n",
       "    <tbody>\n",
       "    </tbody>\n",
       "</table>"
      ],
      "text/plain": [
       "++\n",
       "||\n",
       "++\n",
       "++"
      ]
     },
     "execution_count": 46,
     "metadata": {},
     "output_type": "execute_result"
    }
   ],
   "source": [
    "%%sql \n",
    "DELETE FROM hms.data_db.trips WHERE trip_id = 1000376"
   ]
  },
  {
   "cell_type": "code",
   "execution_count": 47,
   "id": "26b37514-5fb6-4d40-bbb9-86fbfa8ad919",
   "metadata": {},
   "outputs": [
    {
     "data": {
      "text/html": [
       "<table>\n",
       "    <thead>\n",
       "        <tr>\n",
       "            <th>vendor_id</th>\n",
       "            <th>trip_id</th>\n",
       "            <th>trip_distance</th>\n",
       "            <th>fare_amount</th>\n",
       "            <th>store_and_fwd_flag</th>\n",
       "            <th>pickupdatetime</th>\n",
       "        </tr>\n",
       "    </thead>\n",
       "    <tbody>\n",
       "        <tr>\n",
       "            <td>1</td>\n",
       "            <td>1000375</td>\n",
       "            <td>1.7999999523162842</td>\n",
       "            <td>15.32</td>\n",
       "            <td>N</td>\n",
       "            <td>None</td>\n",
       "        </tr>\n",
       "        <tr>\n",
       "            <td>2</td>\n",
       "            <td>1000372</td>\n",
       "            <td>2.5</td>\n",
       "            <td>22.15</td>\n",
       "            <td>N</td>\n",
       "            <td>None</td>\n",
       "        </tr>\n",
       "        <tr>\n",
       "            <td>1</td>\n",
       "            <td>1000371</td>\n",
       "            <td>1.7999999523162842</td>\n",
       "            <td>15.32</td>\n",
       "            <td>N</td>\n",
       "            <td>None</td>\n",
       "        </tr>\n",
       "        <tr>\n",
       "            <td>1</td>\n",
       "            <td>1000374</td>\n",
       "            <td>8.399999618530273</td>\n",
       "            <td>42.13</td>\n",
       "            <td>Y</td>\n",
       "            <td>None</td>\n",
       "        </tr>\n",
       "    </tbody>\n",
       "</table>"
      ],
      "text/plain": [
       "+-----------+---------+--------------------+-------------+--------------------+----------------+\n",
       "| vendor_id | trip_id |      trip_distance | fare_amount | store_and_fwd_flag | pickupdatetime |\n",
       "+-----------+---------+--------------------+-------------+--------------------+----------------+\n",
       "|         1 | 1000375 | 1.7999999523162842 |       15.32 |                  N |           None |\n",
       "|         2 | 1000372 |                2.5 |       22.15 |                  N |           None |\n",
       "|         1 | 1000371 | 1.7999999523162842 |       15.32 |                  N |           None |\n",
       "|         1 | 1000374 |  8.399999618530273 |       42.13 |                  Y |           None |\n",
       "+-----------+---------+--------------------+-------------+--------------------+----------------+"
      ]
     },
     "execution_count": 47,
     "metadata": {},
     "output_type": "execute_result"
    }
   ],
   "source": [
    "%%sql\n",
    "SELECT * FROM hms.data_db.trips;"
   ]
  },
  {
   "cell_type": "code",
   "execution_count": 68,
   "id": "1c02a92a-2e78-422b-9787-ab6d52ab7d77",
   "metadata": {},
   "outputs": [
    {
     "data": {
      "text/html": [
       "<table>\n",
       "    <thead>\n",
       "        <tr>\n",
       "            <th>committed_at</th>\n",
       "            <th>snapshot_id</th>\n",
       "            <th>parent_id</th>\n",
       "            <th>operation</th>\n",
       "            <th>manifest_list</th>\n",
       "            <th>summary</th>\n",
       "        </tr>\n",
       "    </thead>\n",
       "    <tbody>\n",
       "        <tr>\n",
       "            <td>2024-10-30 13:55:30.502000</td>\n",
       "            <td>5050848906018997966</td>\n",
       "            <td>None</td>\n",
       "            <td>append</td>\n",
       "            <td>s3a://lakehouse/warehouse/data_db/trips/metadata/snap-5050848906018997966-1-345e97c4-e957-44dd-b0e0-555123dd1e0e.avro</td>\n",
       "            <td>{&#x27;spark.app.id&#x27;: &#x27;local-1730296141089&#x27;, &#x27;changed-partition-count&#x27;: &#x27;2&#x27;, &#x27;added-data-files&#x27;: &#x27;2&#x27;, &#x27;total-equality-deletes&#x27;: &#x27;0&#x27;, &#x27;added-records&#x27;: &#x27;4&#x27;, &#x27;total-position-deletes&#x27;: &#x27;0&#x27;, &#x27;added-files-size&#x27;: &#x27;3074&#x27;, &#x27;total-delete-files&#x27;: &#x27;0&#x27;, &#x27;total-files-size&#x27;: &#x27;3074&#x27;, &#x27;total-records&#x27;: &#x27;4&#x27;, &#x27;total-data-files&#x27;: &#x27;2&#x27;}</td>\n",
       "        </tr>\n",
       "        <tr>\n",
       "            <td>2024-11-04 02:15:45.033000</td>\n",
       "            <td>3711844439636920376</td>\n",
       "            <td>5050848906018997966</td>\n",
       "            <td>append</td>\n",
       "            <td>s3a://lakehouse/warehouse/data_db/trips/metadata/snap-3711844439636920376-1-1c93c109-4d18-4e13-b4e4-a6153449b13c.avro</td>\n",
       "            <td>{&#x27;spark.app.id&#x27;: &#x27;local-1730684165476&#x27;, &#x27;changed-partition-count&#x27;: &#x27;1&#x27;, &#x27;added-data-files&#x27;: &#x27;1&#x27;, &#x27;total-equality-deletes&#x27;: &#x27;0&#x27;, &#x27;added-records&#x27;: &#x27;1&#x27;, &#x27;total-position-deletes&#x27;: &#x27;0&#x27;, &#x27;added-files-size&#x27;: &#x27;1689&#x27;, &#x27;total-delete-files&#x27;: &#x27;0&#x27;, &#x27;total-files-size&#x27;: &#x27;4763&#x27;, &#x27;total-records&#x27;: &#x27;5&#x27;, &#x27;total-data-files&#x27;: &#x27;3&#x27;}</td>\n",
       "        </tr>\n",
       "        <tr>\n",
       "            <td>2024-11-04 02:20:02.353000</td>\n",
       "            <td>8047480463877905145</td>\n",
       "            <td>3711844439636920376</td>\n",
       "            <td>append</td>\n",
       "            <td>s3a://lakehouse/warehouse/data_db/trips/metadata/snap-8047480463877905145-1-2668a93f-5a76-4456-8c9c-4592c8e0d739.avro</td>\n",
       "            <td>{&#x27;spark.app.id&#x27;: &#x27;local-1730684165476&#x27;, &#x27;changed-partition-count&#x27;: &#x27;1&#x27;, &#x27;added-data-files&#x27;: &#x27;1&#x27;, &#x27;total-equality-deletes&#x27;: &#x27;0&#x27;, &#x27;added-records&#x27;: &#x27;1&#x27;, &#x27;total-position-deletes&#x27;: &#x27;0&#x27;, &#x27;added-files-size&#x27;: &#x27;1689&#x27;, &#x27;total-delete-files&#x27;: &#x27;0&#x27;, &#x27;total-files-size&#x27;: &#x27;6452&#x27;, &#x27;total-records&#x27;: &#x27;6&#x27;, &#x27;total-data-files&#x27;: &#x27;4&#x27;}</td>\n",
       "        </tr>\n",
       "        <tr>\n",
       "            <td>2024-11-04 02:25:29.945000</td>\n",
       "            <td>277744572948458978</td>\n",
       "            <td>8047480463877905145</td>\n",
       "            <td>overwrite</td>\n",
       "            <td>s3a://lakehouse/warehouse/data_db/trips/metadata/snap-277744572948458978-1-b7e2a8a5-e049-49c6-a429-d385dcbf90ba.avro</td>\n",
       "            <td>{&#x27;added-data-files&#x27;: &#x27;1&#x27;, &#x27;total-equality-deletes&#x27;: &#x27;0&#x27;, &#x27;added-records&#x27;: &#x27;1&#x27;, &#x27;deleted-data-files&#x27;: &#x27;1&#x27;, &#x27;deleted-records&#x27;: &#x27;2&#x27;, &#x27;total-records&#x27;: &#x27;5&#x27;, &#x27;spark.app.id&#x27;: &#x27;local-1730684165476&#x27;, &#x27;removed-files-size&#x27;: &#x27;1558&#x27;, &#x27;changed-partition-count&#x27;: &#x27;1&#x27;, &#x27;total-position-deletes&#x27;: &#x27;0&#x27;, &#x27;added-files-size&#x27;: &#x27;1730&#x27;, &#x27;total-delete-files&#x27;: &#x27;0&#x27;, &#x27;total-files-size&#x27;: &#x27;6624&#x27;, &#x27;total-data-files&#x27;: &#x27;4&#x27;}</td>\n",
       "        </tr>\n",
       "        <tr>\n",
       "            <td>2024-11-04 02:42:58.071000</td>\n",
       "            <td>8891162228998381857</td>\n",
       "            <td>277744572948458978</td>\n",
       "            <td>delete</td>\n",
       "            <td>s3a://lakehouse/warehouse/data_db/trips/metadata/snap-8891162228998381857-1-789047c3-ddd6-42c7-afc4-464892a060ae.avro</td>\n",
       "            <td>{&#x27;spark.app.id&#x27;: &#x27;local-1730684165476&#x27;, &#x27;removed-files-size&#x27;: &#x27;1689&#x27;, &#x27;changed-partition-count&#x27;: &#x27;1&#x27;, &#x27;total-equality-deletes&#x27;: &#x27;0&#x27;, &#x27;deleted-data-files&#x27;: &#x27;1&#x27;, &#x27;total-position-deletes&#x27;: &#x27;0&#x27;, &#x27;total-delete-files&#x27;: &#x27;0&#x27;, &#x27;deleted-records&#x27;: &#x27;1&#x27;, &#x27;total-files-size&#x27;: &#x27;4935&#x27;, &#x27;total-records&#x27;: &#x27;4&#x27;, &#x27;total-data-files&#x27;: &#x27;3&#x27;}</td>\n",
       "        </tr>\n",
       "        <tr>\n",
       "            <td>2024-11-04 03:04:00.734000</td>\n",
       "            <td>5276173240938153566</td>\n",
       "            <td>8891162228998381857</td>\n",
       "            <td>overwrite</td>\n",
       "            <td>s3a://lakehouse/warehouse/data_db/trips/metadata/snap-5276173240938153566-1-fc079c92-93aa-4457-96d7-f386a5f13b68.avro</td>\n",
       "            <td>{&#x27;spark.app.id&#x27;: &#x27;local-1730684165476&#x27;, &#x27;changed-partition-count&#x27;: &#x27;1&#x27;, &#x27;added-position-deletes&#x27;: &#x27;1&#x27;, &#x27;total-equality-deletes&#x27;: &#x27;0&#x27;, &#x27;total-position-deletes&#x27;: &#x27;1&#x27;, &#x27;added-position-delete-files&#x27;: &#x27;1&#x27;, &#x27;added-files-size&#x27;: &#x27;1514&#x27;, &#x27;total-delete-files&#x27;: &#x27;1&#x27;, &#x27;added-delete-files&#x27;: &#x27;1&#x27;, &#x27;total-files-size&#x27;: &#x27;6449&#x27;, &#x27;total-records&#x27;: &#x27;4&#x27;, &#x27;total-data-files&#x27;: &#x27;3&#x27;}</td>\n",
       "        </tr>\n",
       "    </tbody>\n",
       "</table>"
      ],
      "text/plain": [
       "+----------------------------+---------------------+---------------------+-----------+-----------------------------------------------------------------------------------------------------------------------+---------------------------------------------------------------------------------------------------------------------------------------------------------------------------------------------------------------------------------------------------------------------------------------------------------------------------------------------------------------------------------------------------------+\n",
       "|               committed_at |         snapshot_id |           parent_id | operation |                                                                                                         manifest_list |                                                                                                                                                                                                                                                                                                                                                                                                 summary |\n",
       "+----------------------------+---------------------+---------------------+-----------+-----------------------------------------------------------------------------------------------------------------------+---------------------------------------------------------------------------------------------------------------------------------------------------------------------------------------------------------------------------------------------------------------------------------------------------------------------------------------------------------------------------------------------------------+\n",
       "| 2024-10-30 13:55:30.502000 | 5050848906018997966 |                None |    append | s3a://lakehouse/warehouse/data_db/trips/metadata/snap-5050848906018997966-1-345e97c4-e957-44dd-b0e0-555123dd1e0e.avro |                                                                                  {'spark.app.id': 'local-1730296141089', 'changed-partition-count': '2', 'added-data-files': '2', 'total-equality-deletes': '0', 'added-records': '4', 'total-position-deletes': '0', 'added-files-size': '3074', 'total-delete-files': '0', 'total-files-size': '3074', 'total-records': '4', 'total-data-files': '2'} |\n",
       "| 2024-11-04 02:15:45.033000 | 3711844439636920376 | 5050848906018997966 |    append | s3a://lakehouse/warehouse/data_db/trips/metadata/snap-3711844439636920376-1-1c93c109-4d18-4e13-b4e4-a6153449b13c.avro |                                                                                  {'spark.app.id': 'local-1730684165476', 'changed-partition-count': '1', 'added-data-files': '1', 'total-equality-deletes': '0', 'added-records': '1', 'total-position-deletes': '0', 'added-files-size': '1689', 'total-delete-files': '0', 'total-files-size': '4763', 'total-records': '5', 'total-data-files': '3'} |\n",
       "| 2024-11-04 02:20:02.353000 | 8047480463877905145 | 3711844439636920376 |    append | s3a://lakehouse/warehouse/data_db/trips/metadata/snap-8047480463877905145-1-2668a93f-5a76-4456-8c9c-4592c8e0d739.avro |                                                                                  {'spark.app.id': 'local-1730684165476', 'changed-partition-count': '1', 'added-data-files': '1', 'total-equality-deletes': '0', 'added-records': '1', 'total-position-deletes': '0', 'added-files-size': '1689', 'total-delete-files': '0', 'total-files-size': '6452', 'total-records': '6', 'total-data-files': '4'} |\n",
       "| 2024-11-04 02:25:29.945000 |  277744572948458978 | 8047480463877905145 | overwrite |  s3a://lakehouse/warehouse/data_db/trips/metadata/snap-277744572948458978-1-b7e2a8a5-e049-49c6-a429-d385dcbf90ba.avro | {'added-data-files': '1', 'total-equality-deletes': '0', 'added-records': '1', 'deleted-data-files': '1', 'deleted-records': '2', 'total-records': '5', 'spark.app.id': 'local-1730684165476', 'removed-files-size': '1558', 'changed-partition-count': '1', 'total-position-deletes': '0', 'added-files-size': '1730', 'total-delete-files': '0', 'total-files-size': '6624', 'total-data-files': '4'} |\n",
       "| 2024-11-04 02:42:58.071000 | 8891162228998381857 |  277744572948458978 |    delete | s3a://lakehouse/warehouse/data_db/trips/metadata/snap-8891162228998381857-1-789047c3-ddd6-42c7-afc4-464892a060ae.avro |                                                                            {'spark.app.id': 'local-1730684165476', 'removed-files-size': '1689', 'changed-partition-count': '1', 'total-equality-deletes': '0', 'deleted-data-files': '1', 'total-position-deletes': '0', 'total-delete-files': '0', 'deleted-records': '1', 'total-files-size': '4935', 'total-records': '4', 'total-data-files': '3'} |\n",
       "| 2024-11-04 03:04:00.734000 | 5276173240938153566 | 8891162228998381857 | overwrite | s3a://lakehouse/warehouse/data_db/trips/metadata/snap-5276173240938153566-1-fc079c92-93aa-4457-96d7-f386a5f13b68.avro |                                   {'spark.app.id': 'local-1730684165476', 'changed-partition-count': '1', 'added-position-deletes': '1', 'total-equality-deletes': '0', 'total-position-deletes': '1', 'added-position-delete-files': '1', 'added-files-size': '1514', 'total-delete-files': '1', 'added-delete-files': '1', 'total-files-size': '6449', 'total-records': '4', 'total-data-files': '3'} |\n",
       "+----------------------------+---------------------+---------------------+-----------+-----------------------------------------------------------------------------------------------------------------------+---------------------------------------------------------------------------------------------------------------------------------------------------------------------------------------------------------------------------------------------------------------------------------------------------------------------------------------------------------------------------------------------------------+"
      ]
     },
     "execution_count": 68,
     "metadata": {},
     "output_type": "execute_result"
    }
   ],
   "source": [
    "%%sql\n",
    "select * from hms.data_db.trips.snapshots\n"
   ]
  },
  {
   "cell_type": "code",
   "execution_count": 64,
   "id": "5c1b0cdf-0280-4932-9135-fb39d6e82049",
   "metadata": {},
   "outputs": [
    {
     "data": {
      "text/html": [
       "<table>\n",
       "    <thead>\n",
       "        <tr>\n",
       "            <th>vendor_id</th>\n",
       "            <th>trip_id</th>\n",
       "            <th>trip_distance</th>\n",
       "            <th>fare_amount</th>\n",
       "            <th>store_and_fwd_flag</th>\n",
       "            <th>pickupdatetime</th>\n",
       "        </tr>\n",
       "    </thead>\n",
       "    <tbody>\n",
       "        <tr>\n",
       "            <td>1</td>\n",
       "            <td>1000375</td>\n",
       "            <td>1.7999999523162842</td>\n",
       "            <td>15.32</td>\n",
       "            <td>N</td>\n",
       "            <td>None</td>\n",
       "        </tr>\n",
       "        <tr>\n",
       "            <td>2</td>\n",
       "            <td>1000372</td>\n",
       "            <td>2.5</td>\n",
       "            <td>22.15</td>\n",
       "            <td>N</td>\n",
       "            <td>None</td>\n",
       "        </tr>\n",
       "        <tr>\n",
       "            <td>1</td>\n",
       "            <td>1000371</td>\n",
       "            <td>1.7999999523162842</td>\n",
       "            <td>15.32</td>\n",
       "            <td>N</td>\n",
       "            <td>None</td>\n",
       "        </tr>\n",
       "        <tr>\n",
       "            <td>1</td>\n",
       "            <td>1000374</td>\n",
       "            <td>8.399999618530273</td>\n",
       "            <td>42.13</td>\n",
       "            <td>Y</td>\n",
       "            <td>None</td>\n",
       "        </tr>\n",
       "    </tbody>\n",
       "</table>"
      ],
      "text/plain": [
       "+-----------+---------+--------------------+-------------+--------------------+----------------+\n",
       "| vendor_id | trip_id |      trip_distance | fare_amount | store_and_fwd_flag | pickupdatetime |\n",
       "+-----------+---------+--------------------+-------------+--------------------+----------------+\n",
       "|         1 | 1000375 | 1.7999999523162842 |       15.32 |                  N |           None |\n",
       "|         2 | 1000372 |                2.5 |       22.15 |                  N |           None |\n",
       "|         1 | 1000371 | 1.7999999523162842 |       15.32 |                  N |           None |\n",
       "|         1 | 1000374 |  8.399999618530273 |       42.13 |                  Y |           None |\n",
       "+-----------+---------+--------------------+-------------+--------------------+----------------+"
      ]
     },
     "execution_count": 64,
     "metadata": {},
     "output_type": "execute_result"
    }
   ],
   "source": [
    "%%sql\n",
    "select * from hms.data_db.trips VERSION AS OF 8891162228998381857"
   ]
  },
  {
   "cell_type": "code",
   "execution_count": 69,
   "id": "6e45727d-293a-4626-b753-e7e717403bc3",
   "metadata": {},
   "outputs": [
    {
     "data": {
      "text/html": [
       "<table>\n",
       "    <thead>\n",
       "        <tr>\n",
       "            <th>content</th>\n",
       "            <th>file_path</th>\n",
       "            <th>file_format</th>\n",
       "            <th>spec_id</th>\n",
       "            <th>partition</th>\n",
       "            <th>record_count</th>\n",
       "            <th>file_size_in_bytes</th>\n",
       "            <th>column_sizes</th>\n",
       "            <th>value_counts</th>\n",
       "            <th>null_value_counts</th>\n",
       "            <th>nan_value_counts</th>\n",
       "            <th>lower_bounds</th>\n",
       "            <th>upper_bounds</th>\n",
       "            <th>key_metadata</th>\n",
       "            <th>split_offsets</th>\n",
       "            <th>equality_ids</th>\n",
       "            <th>sort_order_id</th>\n",
       "            <th>readable_metrics</th>\n",
       "        </tr>\n",
       "    </thead>\n",
       "    <tbody>\n",
       "        <tr>\n",
       "            <td>1</td>\n",
       "            <td>s3a://lakehouse/warehouse/data_db/trips/data/vendor_id=2/00000-29-77bae447-f7f8-41f1-800c-e6fce2859742-00001-deletes.parquet</td>\n",
       "            <td>PARQUET</td>\n",
       "            <td>0</td>\n",
       "            <td>Row(vendor_id=2)</td>\n",
       "            <td>1</td>\n",
       "            <td>1514</td>\n",
       "            <td>{2147483546: 141, 2147483545: 39}</td>\n",
       "            <td>None</td>\n",
       "            <td>None</td>\n",
       "            <td>None</td>\n",
       "            <td>{2147483546: bytearray(b&#x27;s3a://lakehouse/warehouse/data_db/trips/data/vendor_id=2/00000-11-6a5bf715-289c-4e44-8421-37e7c5f90a1d-0-00001.parquet&#x27;), 2147483545: bytearray(b&#x27;\\x00\\x00\\x00\\x00\\x00\\x00\\x00\\x00&#x27;)}</td>\n",
       "            <td>{2147483546: bytearray(b&#x27;s3a://lakehouse/warehouse/data_db/trips/data/vendor_id=2/00000-11-6a5bf715-289c-4e44-8421-37e7c5f90a1d-0-00001.parquet&#x27;), 2147483545: bytearray(b&#x27;\\x00\\x00\\x00\\x00\\x00\\x00\\x00\\x00&#x27;)}</td>\n",
       "            <td>None</td>\n",
       "            <td>[4]</td>\n",
       "            <td>None</td>\n",
       "            <td>None</td>\n",
       "            <td>Row(fare_amount=Row(column_size=None, value_count=None, null_value_count=None, nan_value_count=None, lower_bound=None, upper_bound=None), pickupdatetime=Row(column_size=None, value_count=None, null_value_count=None, nan_value_count=None, lower_bound=None, upper_bound=None), store_and_fwd_flag=Row(column_size=None, value_count=None, null_value_count=None, nan_value_count=None, lower_bound=None, upper_bound=None), trip_distance=Row(column_size=None, value_count=None, null_value_count=None, nan_value_count=None, lower_bound=None, upper_bound=None), trip_id=Row(column_size=None, value_count=None, null_value_count=None, nan_value_count=None, lower_bound=None, upper_bound=None), vendor_id=Row(column_size=None, value_count=None, null_value_count=None, nan_value_count=None, lower_bound=None, upper_bound=None))</td>\n",
       "        </tr>\n",
       "    </tbody>\n",
       "</table>"
      ],
      "text/plain": [
       "+---------+------------------------------------------------------------------------------------------------------------------------------+-------------+---------+------------------+--------------+--------------------+-----------------------------------+--------------+-------------------+------------------+----------------------------------------------------------------------------------------------------------------------------------------------------------------------------------------------------------------+----------------------------------------------------------------------------------------------------------------------------------------------------------------------------------------------------------------+--------------+---------------+--------------+---------------+-----------------------------------------------------------------------------------------------------------------------------------------------------------------------------------------------------------------------------------------------------------------------------------------------------------------------------------------------------------------------------------------------------------------------------------------------------------------------------------------------------------------------------------------------------------------------------------------------------------------------------------------------------------------------------------------------------------------------------------------------------------------------------------------------------------------------------------------------+\n",
       "| content |                                                                                                                    file_path | file_format | spec_id |        partition | record_count | file_size_in_bytes |                      column_sizes | value_counts | null_value_counts | nan_value_counts |                                                                                                                                                                                                   lower_bounds |                                                                                                                                                                                                   upper_bounds | key_metadata | split_offsets | equality_ids | sort_order_id |                                                                                                                                                                                                                                                                                                                                                                                                                                                                                                                                                                                                                                                                                                                                                                                                                              readable_metrics |\n",
       "+---------+------------------------------------------------------------------------------------------------------------------------------+-------------+---------+------------------+--------------+--------------------+-----------------------------------+--------------+-------------------+------------------+----------------------------------------------------------------------------------------------------------------------------------------------------------------------------------------------------------------+----------------------------------------------------------------------------------------------------------------------------------------------------------------------------------------------------------------+--------------+---------------+--------------+---------------+-----------------------------------------------------------------------------------------------------------------------------------------------------------------------------------------------------------------------------------------------------------------------------------------------------------------------------------------------------------------------------------------------------------------------------------------------------------------------------------------------------------------------------------------------------------------------------------------------------------------------------------------------------------------------------------------------------------------------------------------------------------------------------------------------------------------------------------------------+\n",
       "|       1 | s3a://lakehouse/warehouse/data_db/trips/data/vendor_id=2/00000-29-77bae447-f7f8-41f1-800c-e6fce2859742-00001-deletes.parquet |     PARQUET |       0 | Row(vendor_id=2) |            1 |               1514 | {2147483546: 141, 2147483545: 39} |         None |              None |             None | {2147483546: bytearray(b's3a://lakehouse/warehouse/data_db/trips/data/vendor_id=2/00000-11-6a5bf715-289c-4e44-8421-37e7c5f90a1d-0-00001.parquet'), 2147483545: bytearray(b'\\x00\\x00\\x00\\x00\\x00\\x00\\x00\\x00')} | {2147483546: bytearray(b's3a://lakehouse/warehouse/data_db/trips/data/vendor_id=2/00000-11-6a5bf715-289c-4e44-8421-37e7c5f90a1d-0-00001.parquet'), 2147483545: bytearray(b'\\x00\\x00\\x00\\x00\\x00\\x00\\x00\\x00')} |         None |           [4] |         None |          None | Row(fare_amount=Row(column_size=None, value_count=None, null_value_count=None, nan_value_count=None, lower_bound=None, upper_bound=None), pickupdatetime=Row(column_size=None, value_count=None, null_value_count=None, nan_value_count=None, lower_bound=None, upper_bound=None), store_and_fwd_flag=Row(column_size=None, value_count=None, null_value_count=None, nan_value_count=None, lower_bound=None, upper_bound=None), trip_distance=Row(column_size=None, value_count=None, null_value_count=None, nan_value_count=None, lower_bound=None, upper_bound=None), trip_id=Row(column_size=None, value_count=None, null_value_count=None, nan_value_count=None, lower_bound=None, upper_bound=None), vendor_id=Row(column_size=None, value_count=None, null_value_count=None, nan_value_count=None, lower_bound=None, upper_bound=None)) |\n",
       "+---------+------------------------------------------------------------------------------------------------------------------------------+-------------+---------+------------------+--------------+--------------------+-----------------------------------+--------------+-------------------+------------------+----------------------------------------------------------------------------------------------------------------------------------------------------------------------------------------------------------------+----------------------------------------------------------------------------------------------------------------------------------------------------------------------------------------------------------------+--------------+---------------+--------------+---------------+-----------------------------------------------------------------------------------------------------------------------------------------------------------------------------------------------------------------------------------------------------------------------------------------------------------------------------------------------------------------------------------------------------------------------------------------------------------------------------------------------------------------------------------------------------------------------------------------------------------------------------------------------------------------------------------------------------------------------------------------------------------------------------------------------------------------------------------------------+"
      ]
     },
     "execution_count": 69,
     "metadata": {},
     "output_type": "execute_result"
    }
   ],
   "source": [
    "%%sql\n",
    "select * from hms.data_db.trips.all_delete_files"
   ]
  },
  {
   "cell_type": "code",
   "execution_count": 67,
   "id": "4213005e-aca4-4c32-ab22-09d827d08a75",
   "metadata": {},
   "outputs": [
    {
     "data": {
      "text/html": [
       "<table>\n",
       "    <thead>\n",
       "        <tr>\n",
       "        </tr>\n",
       "    </thead>\n",
       "    <tbody>\n",
       "    </tbody>\n",
       "</table>"
      ],
      "text/plain": [
       "++\n",
       "||\n",
       "++\n",
       "++"
      ]
     },
     "execution_count": 67,
     "metadata": {},
     "output_type": "execute_result"
    }
   ],
   "source": [
    "%%sql \n",
    "DELETE FROM hms.data_db.trips WHERE trip_id = 1000372"
   ]
  }
 ],
 "metadata": {
  "kernelspec": {
   "display_name": "Python 3 (ipykernel)",
   "language": "python",
   "name": "python3"
  },
  "language_info": {
   "codemirror_mode": {
    "name": "ipython",
    "version": 3
   },
   "file_extension": ".py",
   "mimetype": "text/x-python",
   "name": "python",
   "nbconvert_exporter": "python",
   "pygments_lexer": "ipython3",
   "version": "3.9.18"
  }
 },
 "nbformat": 4,
 "nbformat_minor": 5
}
